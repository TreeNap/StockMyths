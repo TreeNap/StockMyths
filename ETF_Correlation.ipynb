{
 "cells": [
  {
   "cell_type": "markdown",
   "metadata": {},
   "source": [
    "# Miscellaneous Stock Myths\n",
    "## Looking at the myth of the [best days/months to buy stock](https://www.thebalance.com/best-time-s-of-day-to-day-trade-the-stock-market-1031361#:~:text=Best%20Days%20and%20Months%20to%20Trade%20the%20Stock%20Market&text=Many%20experts%20recommend%20selling%20on,precedes%20a%20three%2Dday%20weekend.)\n",
    "1.[Friday Close vs Monday Open](#Friday-Close-vs-Monday-Open)\n",
    "#### [Dataset](https://www.kaggle.com/borismarjanovic/price-volume-data-for-all-us-stocks-etfs) provided by Boris Marjanovic \n"
   ]
  },
  {
   "cell_type": "code",
   "execution_count": 64,
   "metadata": {},
   "outputs": [],
   "source": [
    "import pandas as pd\n",
    "import datetime as dt\n",
    "from scipy.stats import linregress\n",
    "import numpy as np\n",
    "import matplotlib.pyplot as plt\n",
    "import matplotlib.dates as mdates\n",
    "import matplotlib.cbook as cbook"
   ]
  },
  {
   "cell_type": "code",
   "execution_count": 65,
   "metadata": {},
   "outputs": [],
   "source": [
    "df=pd.read_csv(\"spy.us.txt\")"
   ]
  },
  {
   "cell_type": "code",
   "execution_count": 66,
   "metadata": {},
   "outputs": [],
   "source": [
    "df['Date']=pd.to_datetime(df['Date'])\n",
    "df.set_index(df['Date'])\n",
    "df['DayOfWeek']=df['Date'].dt.dayofweek\n",
    "mf_df=pd.DataFrame()"
   ]
  },
  {
   "cell_type": "markdown",
   "metadata": {},
   "source": [
    "### Friday Close vs Monday Open"
   ]
  },
  {
   "cell_type": "code",
   "execution_count": 67,
   "metadata": {},
   "outputs": [],
   "source": [
    "for i in range(len(df)-5):\n",
    "    row=df.iloc[i]\n",
    "    if row['DayOfWeek']==0:\n",
    "        for j in range(i,i+5): #starting with tues check next 4 tradings days for a friday\n",
    "            frow=df.iloc[j] #friday row\n",
    "            if frow['DayOfWeek']==4:\n",
    "                diff=frow['Close']-row['Open']\n",
    "                start=row['Date']\n",
    "                mf_df=mf_df.append(pd.DataFrame([diff],[start]))\n",
    "                #print(type(pd.DataFrame([start,diff])))"
   ]
  },
  {
   "cell_type": "code",
   "execution_count": 68,
   "metadata": {},
   "outputs": [
    {
     "data": {
      "text/html": [
       "<div>\n",
       "<style scoped>\n",
       "    .dataframe tbody tr th:only-of-type {\n",
       "        vertical-align: middle;\n",
       "    }\n",
       "\n",
       "    .dataframe tbody tr th {\n",
       "        vertical-align: top;\n",
       "    }\n",
       "\n",
       "    .dataframe thead th {\n",
       "        text-align: right;\n",
       "    }\n",
       "</style>\n",
       "<table border=\"1\" class=\"dataframe\">\n",
       "  <thead>\n",
       "    <tr style=\"text-align: right;\">\n",
       "      <th></th>\n",
       "      <th>Difference</th>\n",
       "      <th>Date</th>\n",
       "    </tr>\n",
       "  </thead>\n",
       "  <tbody>\n",
       "    <tr>\n",
       "      <th>2005-02-28</th>\n",
       "      <td>1.38</td>\n",
       "      <td>2005-02-28</td>\n",
       "    </tr>\n",
       "    <tr>\n",
       "      <th>2005-03-07</th>\n",
       "      <td>-1.98</td>\n",
       "      <td>2005-03-07</td>\n",
       "    </tr>\n",
       "    <tr>\n",
       "      <th>2005-03-14</th>\n",
       "      <td>-1.63</td>\n",
       "      <td>2005-03-14</td>\n",
       "    </tr>\n",
       "    <tr>\n",
       "      <th>2005-03-28</th>\n",
       "      <td>0.01</td>\n",
       "      <td>2005-03-28</td>\n",
       "    </tr>\n",
       "    <tr>\n",
       "      <th>2005-04-04</th>\n",
       "      <td>0.56</td>\n",
       "      <td>2005-04-04</td>\n",
       "    </tr>\n",
       "    <tr>\n",
       "      <th>...</th>\n",
       "      <td>...</td>\n",
       "      <td>...</td>\n",
       "    </tr>\n",
       "    <tr>\n",
       "      <th>2017-10-02</th>\n",
       "      <td>2.88</td>\n",
       "      <td>2017-10-02</td>\n",
       "    </tr>\n",
       "    <tr>\n",
       "      <th>2017-10-09</th>\n",
       "      <td>0.75</td>\n",
       "      <td>2017-10-09</td>\n",
       "    </tr>\n",
       "    <tr>\n",
       "      <th>2017-10-16</th>\n",
       "      <td>1.90</td>\n",
       "      <td>2017-10-16</td>\n",
       "    </tr>\n",
       "    <tr>\n",
       "      <th>2017-10-23</th>\n",
       "      <td>0.23</td>\n",
       "      <td>2017-10-23</td>\n",
       "    </tr>\n",
       "    <tr>\n",
       "      <th>2017-10-30</th>\n",
       "      <td>1.38</td>\n",
       "      <td>2017-10-30</td>\n",
       "    </tr>\n",
       "  </tbody>\n",
       "</table>\n",
       "<p>577 rows × 2 columns</p>\n",
       "</div>"
      ],
      "text/plain": [
       "            Difference       Date\n",
       "2005-02-28        1.38 2005-02-28\n",
       "2005-03-07       -1.98 2005-03-07\n",
       "2005-03-14       -1.63 2005-03-14\n",
       "2005-03-28        0.01 2005-03-28\n",
       "2005-04-04        0.56 2005-04-04\n",
       "...                ...        ...\n",
       "2017-10-02        2.88 2017-10-02\n",
       "2017-10-09        0.75 2017-10-09\n",
       "2017-10-16        1.90 2017-10-16\n",
       "2017-10-23        0.23 2017-10-23\n",
       "2017-10-30        1.38 2017-10-30\n",
       "\n",
       "[577 rows x 2 columns]"
      ]
     },
     "execution_count": 68,
     "metadata": {},
     "output_type": "execute_result"
    }
   ],
   "source": [
    "mf_df['Date']=mf_df.index\n",
    "mf_df.columns=[\"Difference\",\"Date\"]\n",
    "x=mf_df.index.values\n",
    "y=mf_df.values\n",
    "mf_df\n",
    "#x[1].dt.year"
   ]
  },
  {
   "cell_type": "code",
   "execution_count": 69,
   "metadata": {},
   "outputs": [
    {
     "data": {
      "image/png": "[encoded data removed]",
      "text/plain": [
       "<Figure size 432x288 with 1 Axes>"
      ]
     },
     "metadata": {
      "needs_background": "light"
     },
     "output_type": "display_data"
    }
   ],
   "source": [
    "\n",
    "years = mdates.YearLocator()   # every year\n",
    "months = mdates.MonthLocator()  # every month\n",
    "years_fmt = mdates.DateFormatter('%Y')\n",
    "\n",
    "# Load a numpy structured array from yahoo csv data with fields date, open,\n",
    "# close, volume, adj_close from the mpl-data/example directory.  This array\n",
    "# stores the date as an np.datetime64 with a day unit ('D') in the 'date'\n",
    "# column.\n",
    "data=mf_df\n",
    "#slope, intercept, r_value, p_value, std_err = linregress(x, y) \n",
    "\n",
    "\n",
    "fig, ax = plt.subplots()\n",
    "ax.plot('Date', 'Difference', data=data)\n",
    "\n",
    "plt.title(\"SPY Friday Close - Monday Open\")\n",
    "plt.xlabel(\"Week\")\n",
    "plt.ylabel(\"$\")\n",
    "#plt.plot(pred_x, intercept + slope*pred_x, 'r', label='fitted line 1880 to 2015')\n",
    "\n",
    "\n",
    "# format the ticks\n",
    "ax.xaxis.set_major_locator(years)\n",
    "ax.xaxis.set_major_formatter(years_fmt)\n",
    "ax.xaxis.set_minor_locator(months)\n",
    "\n",
    "# round to nearest years.\n",
    "datemin = np.datetime64(data['Date'][0], 'Y')\n",
    "datemax = np.datetime64(data['Date'][-1], 'Y') + np.timedelta64(1, 'Y')\n",
    "ax.set_xlim(datemin, datemax)\n",
    "\n",
    "# format the coords message box\n",
    "ax.format_xdata = mdates.DateFormatter('%Y-%m-%d')\n",
    "ax.format_ydata = lambda x: '$%1.2f' % x  # format the price.\n",
    "ax.grid(True)\n",
    "\n",
    "# rotates and right aligns the x labels, and moves the bottom of the\n",
    "# axes up to make room for them\n",
    "fig.autofmt_xdate()\n",
    "\n",
    "plt.show()"
   ]
  },
  {
   "cell_type": "code",
   "execution_count": 70,
   "metadata": {},
   "outputs": [
    {
     "data": {
      "text/plain": [
       "count    577.000000\n",
       "mean       0.196619\n",
       "std        2.788956\n",
       "min      -16.246000\n",
       "25%       -1.175000\n",
       "50%        0.340000\n",
       "75%        1.760000\n",
       "max       11.250000\n",
       "Name: Difference, dtype: float64"
      ]
     },
     "execution_count": 70,
     "metadata": {},
     "output_type": "execute_result"
    }
   ],
   "source": [
    "mf_df['Difference'].describe()"
   ]
  },
  {
   "cell_type": "code",
   "execution_count": 71,
   "metadata": {},
   "outputs": [],
   "source": [
    "dec_df=pd.DataFrame()\n",
    "for i in range(2005,2017):\n",
    "    curr = df.loc[(df['Date'].dt.month == 12) & (df['Date'].dt.year == i)]\n",
    "    diff=curr.tail(1)['Close'].item()-curr.head(1)['Open'].item()\n",
    "    start=i\n",
    "    dec_df=dec_df.append(pd.DataFrame([diff],[start]))"
   ]
  },
  {
   "cell_type": "code",
   "execution_count": 72,
   "metadata": {},
   "outputs": [
    {
     "data": {
      "text/html": [
       "<div>\n",
       "<style scoped>\n",
       "    .dataframe tbody tr th:only-of-type {\n",
       "        vertical-align: middle;\n",
       "    }\n",
       "\n",
       "    .dataframe tbody tr th {\n",
       "        vertical-align: top;\n",
       "    }\n",
       "\n",
       "    .dataframe thead th {\n",
       "        text-align: right;\n",
       "    }\n",
       "</style>\n",
       "<table border=\"1\" class=\"dataframe\">\n",
       "  <thead>\n",
       "    <tr style=\"text-align: right;\">\n",
       "      <th></th>\n",
       "      <th>0</th>\n",
       "    </tr>\n",
       "  </thead>\n",
       "  <tbody>\n",
       "    <tr>\n",
       "      <th>2005</th>\n",
       "      <td>-1.310</td>\n",
       "    </tr>\n",
       "    <tr>\n",
       "      <th>2006</th>\n",
       "      <td>0.940</td>\n",
       "    </tr>\n",
       "    <tr>\n",
       "      <th>2007</th>\n",
       "      <td>-1.710</td>\n",
       "    </tr>\n",
       "    <tr>\n",
       "      <th>2008</th>\n",
       "      <td>2.380</td>\n",
       "    </tr>\n",
       "    <tr>\n",
       "      <th>2009</th>\n",
       "      <td>0.427</td>\n",
       "    </tr>\n",
       "  </tbody>\n",
       "</table>\n",
       "</div>"
      ],
      "text/plain": [
       "          0\n",
       "2005 -1.310\n",
       "2006  0.940\n",
       "2007 -1.710\n",
       "2008  2.380\n",
       "2009  0.427"
      ]
     },
     "execution_count": 72,
     "metadata": {},
     "output_type": "execute_result"
    }
   ],
   "source": [
    "dec_df.head()"
   ]
  },
  {
   "cell_type": "code",
   "execution_count": null,
   "metadata": {},
   "outputs": [],
   "source": []
  }
 ],
 "metadata": {
  "kernelspec": {
   "display_name": "Python 3",
   "language": "python",
   "name": "python3"
  },
  "language_info": {
   "codemirror_mode": {
    "name": "ipython",
    "version": 3
   },
   "file_extension": ".py",
   "mimetype": "text/x-python",
   "name": "python",
   "nbconvert_exporter": "python",
   "pygments_lexer": "ipython3",
   "version": "3.8.3"
  }
 },
 "nbformat": 4,
 "nbformat_minor": 4
}
